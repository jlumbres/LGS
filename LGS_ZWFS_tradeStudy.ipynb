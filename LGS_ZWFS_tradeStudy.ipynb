{
 "cells": [
  {
   "cell_type": "code",
   "execution_count": 7,
   "metadata": {},
   "outputs": [
    {
     "data": {
      "text/plain": [
       "'0.8.1dev1324.dev1324'"
      ]
     },
     "execution_count": 7,
     "metadata": {},
     "output_type": "execute_result"
    }
   ],
   "source": [
    "%matplotlib inline\n",
    "import numpy as np\n",
    "\n",
    "# plotting tools\n",
    "import matplotlib.pyplot as plt\n",
    "from matplotlib.colors import LogNorm, Normalize\n",
    "import matplotlib\n",
    "\n",
    "# units\n",
    "from astropy import units as u\n",
    "from astropy.io import fits\n",
    "\n",
    "# POPPY\n",
    "import poppy\n",
    "from poppy.poppy_core import PlaneType\n",
    "\n",
    "# Import external functions file; mostly pulled from magaox_poppy\n",
    "import LGS_calc as lgs\n",
    "\n",
    "# print version running of POPPY\n",
    "poppy.__version__"
   ]
  },
  {
   "cell_type": "markdown",
   "metadata": {},
   "source": [
    "## Initiate the optical elements and variables\n",
    "\n",
    "### Assumptions made:\n",
    "- Deformable mirrors (Iris AO) are implemented as perfect surface flat mirrors using POPPY's built-in functions."
   ]
  },
  {
   "cell_type": "code",
   "execution_count": 2,
   "metadata": {},
   "outputs": [
    {
     "name": "stdout",
     "output_type": "stream",
     "text": [
      "CSV file name: data/rxCSV/rx_LGS.csv\n",
      "The names of the headers are:\n",
      "('Optical_Element_Number', 'Name', 'Type', 'Focal_Length_m', 'Distance_m', 'Radius_m', 'surf_PSD_folder', 'surf_PSD_filename', 'optic_type', 'OPD_unit', 'Correction_m', 'Comment')\n"
     ]
    }
   ],
   "source": [
    "# define calculation parameters\n",
    "oversamp = 0.125\n",
    "samp = 256\n",
    "\n",
    "# Wavelengths used on testbed\n",
    "wavelength = {'LGS': 632.8e-9*u.m, 'tgt': 531e-9*u.m}\n",
    "\n",
    "# Testbed parameters\n",
    "space_parms = {'LUVOIR_diam': 15 * u.m, 'LGS_dist': 5e7 * u.m, 'LGS_sep': 20*u.arcsec}\n",
    "\n",
    "# Compile the LGS system prescription\n",
    "rx_LGS = lgs.makeRxCSV('data/rxCSV/rx_LGS.csv')\n",
    "\n",
    "# Choosing important information\n",
    "for t_optic, test_opt in enumerate(rx_LGS):\n",
    "    if test_opt['Name'] == 'IrisAO-map':\n",
    "        irisAO_radius = test_opt['Radius_m'] * u.m\n",
    "        irisAO_index = test_opt['Optical_Element_Number']\n",
    "    elif test_opt['Name'] == 'OAP-2':\n",
    "        OAP_fl = test_opt['Focal_Length_m'] * u.m\n",
    "    elif test_opt['Name'] == 'ZWFS-opd':\n",
    "        ZWFS_index = test_opt['Optical_Element_Number']"
   ]
  },
  {
   "cell_type": "markdown",
   "metadata": {},
   "source": [
    "Build the IrisAO DM map. Declare here any segment actuator states.\n",
    "\n",
    "The IrisAO DM map won't be needed when building ZWFS, but it is needed when passing into csvFresnel. It will be needed when the system is built again with the ZWFS in place."
   ]
  },
  {
   "cell_type": "code",
   "execution_count": 3,
   "metadata": {},
   "outputs": [],
   "source": [
    "# Build the IrisAO DM map\n",
    "hexdm = poppy.dms.HexSegmentedDeformableMirror(name='IrisAO PTT111L', rings=3, flattoflat=1212.4e-6*u.m, gap=7e-6*u.m, center=True)\n",
    "#hexdm.set_actuator(12, 0.5*u.micron, 0, 0)\n",
    "#hexdm.set_actuator(18, -0.25*u.micron, 0, 0)\n",
    "#hexdm.set_actuator(6, 0, -0.25*u.microradian, 0)"
   ]
  },
  {
   "cell_type": "markdown",
   "metadata": {},
   "source": [
    "Building the ZWFS mask based on an off-axis LGS source with no segmented DM in place. This is done so we can calculate the pixel scaling at the ZWFS focal plane to correctly form the ZWFS mask."
   ]
  },
  {
   "cell_type": "code",
   "execution_count": 4,
   "metadata": {},
   "outputs": [],
   "source": [
    "# Declaring ZWFS parameters\n",
    "zwfs_parms = {}\n",
    "zwfs_parms['fnum'] = OAP_fl / (irisAO_radius*2)\n",
    "zwfs_parms['platescale'] = (206265 * u.arcsec) / (irisAO_radius * 2 * zwfs_parms['fnum'])\n",
    "zwfs_parms['sep'] =  space_parms['LGS_sep'] / zwfs_parms['platescale'] # PSF separation [meters]\n",
    "\n",
    "# Calculating LGS off-axis finite distance aberrations\n",
    "LGS_coeff_sequence = lgs.ZWFEcoeff_LGS(space_parms, wavelength['LGS'], irisAO_radius)\n",
    "# Choose this if removing defocus\n",
    "LGS_coeff_sequence[3] = 0 # push out defocus for now for proof of concepts"
   ]
  },
  {
   "cell_type": "code",
   "execution_count": 6,
   "metadata": {
    "scrolled": false
   },
   "outputs": [
    {
     "ename": "ValueError",
     "evalue": "Argument 'wavelength' to function '__init__' must be a number (not 'Wavefront:\n        wavelength = 0.6328 micron\n        shape = (2048, 2048)\n        sampling = 1.76171875e-05 m / pix'), and convertable to units='m'.",
     "output_type": "error",
     "traceback": [
      "\u001b[0;31m---------------------------------------------------------------------------\u001b[0m",
      "\u001b[0;31mTypeError\u001b[0m                                 Traceback (most recent call last)",
      "\u001b[0;32m~/OliLab/PythonScripts/poppy/poppy/utils.py\u001b[0m in \u001b[0;36munit_check_wrapper\u001b[0;34m(*func_args, **func_kwargs)\u001b[0m\n\u001b[1;32m   1364\u001b[0m                         \u001b[0;32mtry\u001b[0m\u001b[0;34m:\u001b[0m\u001b[0;34m\u001b[0m\u001b[0m\n\u001b[0;32m-> 1365\u001b[0;31m                             \u001b[0mtmp\u001b[0m \u001b[0;34m=\u001b[0m \u001b[0mnp\u001b[0m\u001b[0;34m.\u001b[0m\u001b[0masarray\u001b[0m\u001b[0;34m(\u001b[0m\u001b[0marg\u001b[0m\u001b[0;34m,\u001b[0m \u001b[0mdtype\u001b[0m\u001b[0;34m=\u001b[0m\u001b[0mfloat\u001b[0m\u001b[0;34m)\u001b[0m\u001b[0;34m\u001b[0m\u001b[0m\n\u001b[0m\u001b[1;32m   1366\u001b[0m                         \u001b[0;32mexcept\u001b[0m \u001b[0;34m(\u001b[0m\u001b[0mValueError\u001b[0m\u001b[0;34m,\u001b[0m \u001b[0mTypeError\u001b[0m\u001b[0;34m)\u001b[0m\u001b[0;34m:\u001b[0m\u001b[0;34m\u001b[0m\u001b[0m\n",
      "\u001b[0;32m~/anaconda3/lib/python3.5/site-packages/numpy/core/numeric.py\u001b[0m in \u001b[0;36masarray\u001b[0;34m(a, dtype, order)\u001b[0m\n\u001b[1;32m    500\u001b[0m     \"\"\"\n\u001b[0;32m--> 501\u001b[0;31m     \u001b[0;32mreturn\u001b[0m \u001b[0marray\u001b[0m\u001b[0;34m(\u001b[0m\u001b[0ma\u001b[0m\u001b[0;34m,\u001b[0m \u001b[0mdtype\u001b[0m\u001b[0;34m,\u001b[0m \u001b[0mcopy\u001b[0m\u001b[0;34m=\u001b[0m\u001b[0;32mFalse\u001b[0m\u001b[0;34m,\u001b[0m \u001b[0morder\u001b[0m\u001b[0;34m=\u001b[0m\u001b[0morder\u001b[0m\u001b[0;34m)\u001b[0m\u001b[0;34m\u001b[0m\u001b[0m\n\u001b[0m\u001b[1;32m    502\u001b[0m \u001b[0;34m\u001b[0m\u001b[0m\n",
      "\u001b[0;31mTypeError\u001b[0m: float() argument must be a string or a number, not 'FresnelWavefront'",
      "\nDuring handling of the above exception, another exception occurred:\n",
      "\u001b[0;31mValueError\u001b[0m                                Traceback (most recent call last)",
      "\u001b[0;32m<ipython-input-6-b94997dea6b5>\u001b[0m in \u001b[0;36m<module>\u001b[0;34m()\u001b[0m\n\u001b[1;32m      4\u001b[0m fp_psf = lgstb.calc_psf(wavelength=wavelength['LGS'], \n\u001b[1;32m      5\u001b[0m                                         \u001b[0mdisplay_intermediates\u001b[0m\u001b[0;34m=\u001b[0m\u001b[0;32mTrue\u001b[0m\u001b[0;34m,\u001b[0m\u001b[0;34m\u001b[0m\u001b[0m\n\u001b[0;32m----> 6\u001b[0;31m                                         return_intermediates=True, save_intermediates=False)\n\u001b[0m",
      "\u001b[0;32m~/anaconda3/lib/python3.5/site-packages/astropy/utils/decorators.py\u001b[0m in \u001b[0;36mcalc_psf\u001b[0;34m(self, wavelength, weight, save_intermediates, save_intermediates_what, display, return_intermediates, return_final, source, normalize, display_intermediates)\u001b[0m\n\u001b[1;32m    858\u001b[0m             \u001b[0mname\u001b[0m \u001b[0;34m=\u001b[0m \u001b[0mfunc\u001b[0m\u001b[0;34m.\u001b[0m\u001b[0m__name__\u001b[0m\u001b[0;34m\u001b[0m\u001b[0m\n\u001b[1;32m    859\u001b[0m \u001b[0;34m\u001b[0m\u001b[0m\n\u001b[0;32m--> 860\u001b[0;31m         \u001b[0mfunc\u001b[0m \u001b[0;34m=\u001b[0m \u001b[0mmake_function_with_signature\u001b[0m\u001b[0;34m(\u001b[0m\u001b[0mfunc\u001b[0m\u001b[0;34m,\u001b[0m \u001b[0mname\u001b[0m\u001b[0;34m=\u001b[0m\u001b[0mname\u001b[0m\u001b[0;34m,\u001b[0m \u001b[0;34m**\u001b[0m\u001b[0mwrapped_args\u001b[0m\u001b[0;34m)\u001b[0m\u001b[0;34m\u001b[0m\u001b[0m\n\u001b[0m\u001b[1;32m    861\u001b[0m         func = functools.update_wrapper(func, wrapped, assigned=assigned,\n\u001b[1;32m    862\u001b[0m                                         updated=updated)\n",
      "\u001b[0;32m~/OliLab/PythonScripts/poppy/poppy/utils.py\u001b[0m in \u001b[0;36munit_check_wrapper\u001b[0;34m(*func_args, **func_kwargs)\u001b[0m\n\u001b[1;32m   1398\u001b[0m                 \u001b[0;31m# print(\"Args:   {}\".format(bound_args.args))\u001b[0m\u001b[0;34m\u001b[0m\u001b[0;34m\u001b[0m\u001b[0m\n\u001b[1;32m   1399\u001b[0m                 \u001b[0;31m# print(\"KWArgs: {}\".format(bound_args.kwargs))\u001b[0m\u001b[0;34m\u001b[0m\u001b[0;34m\u001b[0m\u001b[0m\n\u001b[0;32m-> 1400\u001b[0;31m                 \u001b[0;32mreturn\u001b[0m \u001b[0mwrapped_function\u001b[0m\u001b[0;34m(\u001b[0m\u001b[0;34m*\u001b[0m\u001b[0mbound_args\u001b[0m\u001b[0;34m.\u001b[0m\u001b[0margs\u001b[0m\u001b[0;34m,\u001b[0m \u001b[0;34m**\u001b[0m\u001b[0mbound_args\u001b[0m\u001b[0;34m.\u001b[0m\u001b[0mkwargs\u001b[0m\u001b[0;34m)\u001b[0m\u001b[0;34m\u001b[0m\u001b[0m\n\u001b[0m\u001b[1;32m   1401\u001b[0m \u001b[0;34m\u001b[0m\u001b[0m\n\u001b[1;32m   1402\u001b[0m         \u001b[0;32mreturn\u001b[0m \u001b[0munit_check_wrapper\u001b[0m\u001b[0;34m\u001b[0m\u001b[0m\n",
      "\u001b[0;32m~/OliLab/PythonScripts/poppy/poppy/poppy_core.py\u001b[0m in \u001b[0;36mcalc_psf\u001b[0;34m(self, wavelength, weight, save_intermediates, save_intermediates_what, display, return_intermediates, return_final, source, normalize, display_intermediates)\u001b[0m\n\u001b[1;32m   1539\u001b[0m                     \u001b[0mretain_final\u001b[0m\u001b[0;34m=\u001b[0m\u001b[0mreturn_final\u001b[0m\u001b[0;34m,\u001b[0m\u001b[0;34m\u001b[0m\u001b[0m\n\u001b[1;32m   1540\u001b[0m                     \u001b[0mdisplay_intermediates\u001b[0m\u001b[0;34m=\u001b[0m\u001b[0mdisplay_intermediates\u001b[0m\u001b[0;34m,\u001b[0m\u001b[0;34m\u001b[0m\u001b[0m\n\u001b[0;32m-> 1541\u001b[0;31m                     \u001b[0mnormalize\u001b[0m\u001b[0;34m=\u001b[0m\u001b[0mnormalize\u001b[0m\u001b[0;34m\u001b[0m\u001b[0m\n\u001b[0m\u001b[1;32m   1542\u001b[0m                 )\n\u001b[1;32m   1543\u001b[0m \u001b[0;34m\u001b[0m\u001b[0m\n",
      "\u001b[0;32m~/anaconda3/lib/python3.5/site-packages/astropy/utils/decorators.py\u001b[0m in \u001b[0;36mpropagate_mono\u001b[0;34m(self, wavelength, normalize, retain_intermediates, retain_final, display_intermediates)\u001b[0m\n\u001b[1;32m    858\u001b[0m             \u001b[0mname\u001b[0m \u001b[0;34m=\u001b[0m \u001b[0mfunc\u001b[0m\u001b[0;34m.\u001b[0m\u001b[0m__name__\u001b[0m\u001b[0;34m\u001b[0m\u001b[0m\n\u001b[1;32m    859\u001b[0m \u001b[0;34m\u001b[0m\u001b[0m\n\u001b[0;32m--> 860\u001b[0;31m         \u001b[0mfunc\u001b[0m \u001b[0;34m=\u001b[0m \u001b[0mmake_function_with_signature\u001b[0m\u001b[0;34m(\u001b[0m\u001b[0mfunc\u001b[0m\u001b[0;34m,\u001b[0m \u001b[0mname\u001b[0m\u001b[0;34m=\u001b[0m\u001b[0mname\u001b[0m\u001b[0;34m,\u001b[0m \u001b[0;34m**\u001b[0m\u001b[0mwrapped_args\u001b[0m\u001b[0;34m)\u001b[0m\u001b[0;34m\u001b[0m\u001b[0m\n\u001b[0m\u001b[1;32m    861\u001b[0m         func = functools.update_wrapper(func, wrapped, assigned=assigned,\n\u001b[1;32m    862\u001b[0m                                         updated=updated)\n",
      "\u001b[0;32m~/OliLab/PythonScripts/poppy/poppy/utils.py\u001b[0m in \u001b[0;36munit_check_wrapper\u001b[0;34m(*func_args, **func_kwargs)\u001b[0m\n\u001b[1;32m   1398\u001b[0m                 \u001b[0;31m# print(\"Args:   {}\".format(bound_args.args))\u001b[0m\u001b[0;34m\u001b[0m\u001b[0;34m\u001b[0m\u001b[0m\n\u001b[1;32m   1399\u001b[0m                 \u001b[0;31m# print(\"KWArgs: {}\".format(bound_args.kwargs))\u001b[0m\u001b[0;34m\u001b[0m\u001b[0;34m\u001b[0m\u001b[0m\n\u001b[0;32m-> 1400\u001b[0;31m                 \u001b[0;32mreturn\u001b[0m \u001b[0mwrapped_function\u001b[0m\u001b[0;34m(\u001b[0m\u001b[0;34m*\u001b[0m\u001b[0mbound_args\u001b[0m\u001b[0;34m.\u001b[0m\u001b[0margs\u001b[0m\u001b[0;34m,\u001b[0m \u001b[0;34m**\u001b[0m\u001b[0mbound_args\u001b[0m\u001b[0;34m.\u001b[0m\u001b[0mkwargs\u001b[0m\u001b[0;34m)\u001b[0m\u001b[0;34m\u001b[0m\u001b[0m\n\u001b[0m\u001b[1;32m   1401\u001b[0m \u001b[0;34m\u001b[0m\u001b[0m\n\u001b[1;32m   1402\u001b[0m         \u001b[0;32mreturn\u001b[0m \u001b[0munit_check_wrapper\u001b[0m\u001b[0;34m\u001b[0m\u001b[0m\n",
      "\u001b[0;32m~/OliLab/PythonScripts/poppy/poppy/poppy_core.py\u001b[0m in \u001b[0;36mpropagate_mono\u001b[0;34m(self, wavelength, normalize, retain_intermediates, retain_final, display_intermediates)\u001b[0m\n\u001b[1;32m   1667\u001b[0m         \u001b[0;31m# without making them mandatory.\u001b[0m\u001b[0;34m\u001b[0m\u001b[0;34m\u001b[0m\u001b[0m\n\u001b[1;32m   1668\u001b[0m         \u001b[0;32mif\u001b[0m \u001b[0mretain_intermediates\u001b[0m\u001b[0;34m:\u001b[0m\u001b[0;34m\u001b[0m\u001b[0m\n\u001b[0;32m-> 1669\u001b[0;31m             \u001b[0mwavefront\u001b[0m\u001b[0;34m,\u001b[0m \u001b[0mintermediate_wfs\u001b[0m \u001b[0;34m=\u001b[0m \u001b[0mself\u001b[0m\u001b[0;34m.\u001b[0m\u001b[0mpropagate\u001b[0m\u001b[0;34m(\u001b[0m\u001b[0mwavefront\u001b[0m\u001b[0;34m,\u001b[0m \u001b[0;34m**\u001b[0m\u001b[0mkwargs\u001b[0m\u001b[0;34m)\u001b[0m\u001b[0;34m\u001b[0m\u001b[0m\n\u001b[0m\u001b[1;32m   1670\u001b[0m         \u001b[0;32melse\u001b[0m\u001b[0;34m:\u001b[0m\u001b[0;34m\u001b[0m\u001b[0m\n\u001b[1;32m   1671\u001b[0m             \u001b[0mwavefront\u001b[0m \u001b[0;34m=\u001b[0m \u001b[0mself\u001b[0m\u001b[0;34m.\u001b[0m\u001b[0mpropagate\u001b[0m\u001b[0;34m(\u001b[0m\u001b[0mwavefront\u001b[0m\u001b[0;34m,\u001b[0m \u001b[0;34m**\u001b[0m\u001b[0mkwargs\u001b[0m\u001b[0;34m)\u001b[0m\u001b[0;34m\u001b[0m\u001b[0m\n",
      "\u001b[0;32m~/OliLab/PythonScripts/poppy/poppy/fresnel.py\u001b[0m in \u001b[0;36mpropagate\u001b[0;34m(self, wavefront, normalize, return_intermediates, display_intermediates)\u001b[0m\n\u001b[1;32m   1138\u001b[0m             \u001b[0;31m# The actual propagation:\u001b[0m\u001b[0;34m\u001b[0m\u001b[0;34m\u001b[0m\u001b[0m\n\u001b[1;32m   1139\u001b[0m             \u001b[0mwavefront\u001b[0m\u001b[0;34m.\u001b[0m\u001b[0mpropagate_to\u001b[0m\u001b[0;34m(\u001b[0m\u001b[0moptic\u001b[0m\u001b[0;34m,\u001b[0m \u001b[0mdistance\u001b[0m\u001b[0;34m)\u001b[0m\u001b[0;34m\u001b[0m\u001b[0m\n\u001b[0;32m-> 1140\u001b[0;31m             \u001b[0mwavefront\u001b[0m \u001b[0;34m*=\u001b[0m \u001b[0moptic\u001b[0m\u001b[0;34m\u001b[0m\u001b[0m\n\u001b[0m\u001b[1;32m   1141\u001b[0m \u001b[0;34m\u001b[0m\u001b[0m\n\u001b[1;32m   1142\u001b[0m             \u001b[0;31m# Normalize if appropriate:\u001b[0m\u001b[0;34m\u001b[0m\u001b[0;34m\u001b[0m\u001b[0m\n",
      "\u001b[0;32m~/OliLab/PythonScripts/poppy/poppy/fresnel.py\u001b[0m in \u001b[0;36m__imul__\u001b[0;34m(self, optic)\u001b[0m\n\u001b[1;32m    819\u001b[0m         \u001b[0;32melse\u001b[0m\u001b[0;34m:\u001b[0m\u001b[0;34m\u001b[0m\u001b[0m\n\u001b[1;32m    820\u001b[0m             \u001b[0;31m# Otherwise fall back to the parent class\u001b[0m\u001b[0;34m\u001b[0m\u001b[0;34m\u001b[0m\u001b[0m\n\u001b[0;32m--> 821\u001b[0;31m             \u001b[0;32mreturn\u001b[0m \u001b[0msuper\u001b[0m\u001b[0;34m(\u001b[0m\u001b[0mFresnelWavefront\u001b[0m\u001b[0;34m,\u001b[0m \u001b[0mself\u001b[0m\u001b[0;34m)\u001b[0m\u001b[0;34m.\u001b[0m\u001b[0m__imul__\u001b[0m\u001b[0;34m(\u001b[0m\u001b[0moptic\u001b[0m\u001b[0;34m)\u001b[0m\u001b[0;34m\u001b[0m\u001b[0m\n\u001b[0m\u001b[1;32m    822\u001b[0m \u001b[0;34m\u001b[0m\u001b[0m\n\u001b[1;32m    823\u001b[0m     \u001b[0;32mdef\u001b[0m \u001b[0mapply_lens_power\u001b[0m\u001b[0;34m(\u001b[0m\u001b[0mself\u001b[0m\u001b[0;34m,\u001b[0m \u001b[0moptic\u001b[0m\u001b[0;34m,\u001b[0m \u001b[0mignore_wavefront\u001b[0m\u001b[0;34m=\u001b[0m\u001b[0;32mFalse\u001b[0m\u001b[0;34m)\u001b[0m\u001b[0;34m:\u001b[0m\u001b[0;34m\u001b[0m\u001b[0m\n",
      "\u001b[0;32m~/OliLab/PythonScripts/poppy/poppy/poppy_core.py\u001b[0m in \u001b[0;36m__imul__\u001b[0;34m(self, optic)\u001b[0m\n\u001b[1;32m    177\u001b[0m             \u001b[0;32mreturn\u001b[0m \u001b[0mself\u001b[0m\u001b[0;34m\u001b[0m\u001b[0m\n\u001b[1;32m    178\u001b[0m \u001b[0;34m\u001b[0m\u001b[0m\n\u001b[0;32m--> 179\u001b[0;31m         \u001b[0mphasor\u001b[0m \u001b[0;34m=\u001b[0m \u001b[0moptic\u001b[0m\u001b[0;34m.\u001b[0m\u001b[0mget_phasor\u001b[0m\u001b[0;34m(\u001b[0m\u001b[0mself\u001b[0m\u001b[0;34m)\u001b[0m\u001b[0;34m\u001b[0m\u001b[0m\n\u001b[0m\u001b[1;32m    180\u001b[0m \u001b[0;34m\u001b[0m\u001b[0m\n\u001b[1;32m    181\u001b[0m         \u001b[0;32mif\u001b[0m \u001b[0;32mnot\u001b[0m \u001b[0mnp\u001b[0m\u001b[0;34m.\u001b[0m\u001b[0misscalar\u001b[0m\u001b[0;34m(\u001b[0m\u001b[0mphasor\u001b[0m\u001b[0;34m)\u001b[0m \u001b[0;32mand\u001b[0m \u001b[0mphasor\u001b[0m\u001b[0;34m.\u001b[0m\u001b[0msize\u001b[0m \u001b[0;34m>\u001b[0m \u001b[0;36m1\u001b[0m\u001b[0;34m:\u001b[0m\u001b[0;34m\u001b[0m\u001b[0m\n",
      "\u001b[0;32m~/OliLab/PythonScripts/poppy/poppy/optics.py\u001b[0m in \u001b[0;36mget_phasor\u001b[0;34m(self, wave)\u001b[0m\n\u001b[1;32m    113\u001b[0m         \u001b[0;32mif\u001b[0m \u001b[0maccel_math\u001b[0m\u001b[0;34m.\u001b[0m\u001b[0m_USE_NUMEXPR\u001b[0m\u001b[0;34m:\u001b[0m\u001b[0;34m\u001b[0m\u001b[0m\n\u001b[1;32m    114\u001b[0m             \u001b[0mtrans\u001b[0m \u001b[0;34m=\u001b[0m \u001b[0mself\u001b[0m\u001b[0;34m.\u001b[0m\u001b[0mget_transmission\u001b[0m\u001b[0;34m(\u001b[0m\u001b[0mwave\u001b[0m\u001b[0;34m)\u001b[0m\u001b[0;34m\u001b[0m\u001b[0m\n\u001b[0;32m--> 115\u001b[0;31m             \u001b[0mopd\u001b[0m \u001b[0;34m=\u001b[0m \u001b[0mself\u001b[0m\u001b[0;34m.\u001b[0m\u001b[0mget_opd\u001b[0m\u001b[0;34m(\u001b[0m\u001b[0mwave\u001b[0m\u001b[0;34m)\u001b[0m\u001b[0;34m\u001b[0m\u001b[0m\n\u001b[0m\u001b[1;32m    116\u001b[0m             \u001b[0;31m# we first multiply the two scalars, for a slight performance gain\u001b[0m\u001b[0;34m\u001b[0m\u001b[0;34m\u001b[0m\u001b[0m\n\u001b[1;32m    117\u001b[0m             \u001b[0mscalars\u001b[0m \u001b[0;34m=\u001b[0m \u001b[0;36m1.j\u001b[0m \u001b[0;34m*\u001b[0m \u001b[0mscale\u001b[0m\u001b[0;34m\u001b[0m\u001b[0m\n",
      "\u001b[0;32m~/OliLab/PythonScripts/poppy/poppy/wfe.py\u001b[0m in \u001b[0;36mwrapper\u001b[0;34m(*args, **kwargs)\u001b[0m\n\u001b[1;32m     35\u001b[0m     \u001b[0;32mdef\u001b[0m \u001b[0mwrapper\u001b[0m\u001b[0;34m(\u001b[0m\u001b[0;34m*\u001b[0m\u001b[0margs\u001b[0m\u001b[0;34m,\u001b[0m \u001b[0;34m**\u001b[0m\u001b[0mkwargs\u001b[0m\u001b[0;34m)\u001b[0m\u001b[0;34m:\u001b[0m\u001b[0;34m\u001b[0m\u001b[0m\n\u001b[1;32m     36\u001b[0m         \u001b[0;32mif\u001b[0m \u001b[0;32mnot\u001b[0m \u001b[0misinstance\u001b[0m\u001b[0;34m(\u001b[0m\u001b[0margs\u001b[0m\u001b[0;34m[\u001b[0m\u001b[0;36m1\u001b[0m\u001b[0;34m]\u001b[0m\u001b[0;34m,\u001b[0m \u001b[0mWavefront\u001b[0m\u001b[0;34m)\u001b[0m\u001b[0;34m:\u001b[0m\u001b[0;34m\u001b[0m\u001b[0m\n\u001b[0;32m---> 37\u001b[0;31m             \u001b[0mwave\u001b[0m \u001b[0;34m=\u001b[0m \u001b[0mWavefront\u001b[0m\u001b[0;34m(\u001b[0m\u001b[0mwavelength\u001b[0m\u001b[0;34m=\u001b[0m\u001b[0margs\u001b[0m\u001b[0;34m[\u001b[0m\u001b[0;36m1\u001b[0m\u001b[0;34m]\u001b[0m\u001b[0;34m)\u001b[0m\u001b[0;34m\u001b[0m\u001b[0m\n\u001b[0m\u001b[1;32m     38\u001b[0m             \u001b[0mnew_args\u001b[0m \u001b[0;34m=\u001b[0m \u001b[0;34m(\u001b[0m\u001b[0margs\u001b[0m\u001b[0;34m[\u001b[0m\u001b[0;36m0\u001b[0m\u001b[0;34m]\u001b[0m\u001b[0;34m,\u001b[0m\u001b[0;34m)\u001b[0m \u001b[0;34m+\u001b[0m \u001b[0;34m(\u001b[0m\u001b[0mwave\u001b[0m\u001b[0;34m,\u001b[0m\u001b[0;34m)\u001b[0m \u001b[0;34m+\u001b[0m \u001b[0;34m(\u001b[0m\u001b[0margs\u001b[0m\u001b[0;34m[\u001b[0m\u001b[0;36m2\u001b[0m\u001b[0;34m:\u001b[0m\u001b[0;34m]\u001b[0m\u001b[0;34m)\u001b[0m\u001b[0;34m\u001b[0m\u001b[0m\n\u001b[1;32m     39\u001b[0m             \u001b[0;32mreturn\u001b[0m \u001b[0mf\u001b[0m\u001b[0;34m(\u001b[0m\u001b[0;34m*\u001b[0m\u001b[0mnew_args\u001b[0m\u001b[0;34m,\u001b[0m \u001b[0;34m**\u001b[0m\u001b[0mkwargs\u001b[0m\u001b[0;34m)\u001b[0m\u001b[0;34m\u001b[0m\u001b[0m\n",
      "\u001b[0;32m~/anaconda3/lib/python3.5/site-packages/astropy/utils/decorators.py\u001b[0m in \u001b[0;36m__init__\u001b[0;34m(self, wavelength, npix, dtype, diam, oversample, pixelscale)\u001b[0m\n\u001b[1;32m    858\u001b[0m             \u001b[0mname\u001b[0m \u001b[0;34m=\u001b[0m \u001b[0mfunc\u001b[0m\u001b[0;34m.\u001b[0m\u001b[0m__name__\u001b[0m\u001b[0;34m\u001b[0m\u001b[0m\n\u001b[1;32m    859\u001b[0m \u001b[0;34m\u001b[0m\u001b[0m\n\u001b[0;32m--> 860\u001b[0;31m         \u001b[0mfunc\u001b[0m \u001b[0;34m=\u001b[0m \u001b[0mmake_function_with_signature\u001b[0m\u001b[0;34m(\u001b[0m\u001b[0mfunc\u001b[0m\u001b[0;34m,\u001b[0m \u001b[0mname\u001b[0m\u001b[0;34m=\u001b[0m\u001b[0mname\u001b[0m\u001b[0;34m,\u001b[0m \u001b[0;34m**\u001b[0m\u001b[0mwrapped_args\u001b[0m\u001b[0;34m)\u001b[0m\u001b[0;34m\u001b[0m\u001b[0m\n\u001b[0m\u001b[1;32m    861\u001b[0m         func = functools.update_wrapper(func, wrapped, assigned=assigned,\n\u001b[1;32m    862\u001b[0m                                         updated=updated)\n",
      "\u001b[0;32m~/OliLab/PythonScripts/poppy/poppy/utils.py\u001b[0m in \u001b[0;36munit_check_wrapper\u001b[0;34m(*func_args, **func_kwargs)\u001b[0m\n\u001b[1;32m   1369\u001b[0m                                              \" units='{2}'.\".format(param.name,\n\u001b[1;32m   1370\u001b[0m                                                                     \u001b[0mwrapped_function\u001b[0m\u001b[0;34m.\u001b[0m\u001b[0m__name__\u001b[0m\u001b[0;34m,\u001b[0m\u001b[0;34m\u001b[0m\u001b[0m\n\u001b[0;32m-> 1371\u001b[0;31m                                                                     target_unit.to_string(), arg))\n\u001b[0m\u001b[1;32m   1372\u001b[0m \u001b[0;34m\u001b[0m\u001b[0m\n\u001b[1;32m   1373\u001b[0m                     \u001b[0;32mtry\u001b[0m\u001b[0;34m:\u001b[0m\u001b[0;34m\u001b[0m\u001b[0m\n",
      "\u001b[0;31mValueError\u001b[0m: Argument 'wavelength' to function '__init__' must be a number (not 'Wavefront:\n        wavelength = 0.6328 micron\n        shape = (2048, 2048)\n        sampling = 1.76171875e-05 m / pix'), and convertable to units='m'."
     ]
    },
    {
     "data": {
      "image/png": "[encoded data removed]",
      "text/plain": [
       "<Figure size 432x288 with 1 Axes>"
      ]
     },
     "metadata": {
      "needs_background": "light"
     },
     "output_type": "display_data"
    }
   ],
   "source": [
    "# Build testbed with off-axis LGS, but no DM present\n",
    "# This is done so the pixel scaling at the ZWFS focal plane can be determined.\n",
    "lgstb = lgs.csvFresnel(rx_csv=rx_LGS, samp=samp, oversamp=oversamp, axis='LGS', break_plane='FP2', \n",
    "                       source_ZWFE_coeff=LGS_coeff_sequence, irisAOmap=hexdm, irisAOstatus=False)\n",
    "fp_psf = lgstb.calc_psf(wavelength=wavelength['LGS'], \n",
    "                                        display_intermediates=True, \n",
    "                                        return_intermediates=True, save_intermediates=False)"
   ]
  },
  {
   "cell_type": "code",
   "execution_count": null,
   "metadata": {},
   "outputs": [],
   "source": [
    "# Collect the data at the ZWFS focal plane\n",
    "zwfs_parms['pixscale'] = fp_wfs[-1].pixelscale\n",
    "\n",
    "# Add in ZWFS pixel dimensions \n",
    "zwfs_parms['diam_pix'] = zwfs_parms['diam']/zwfs_parms['pixscale']\n",
    "\n",
    "# Padding factor for getting the shift correct with POPPY's commands\n",
    "zwfs_parms['pad_factor'] = (samp/oversamp/2)*u.pix/(zwfs_parms['diam_pix']/2)\n",
    "\n",
    "# Calculate the size of ZWFS diameter based on Mamadou's efficiency\n",
    "zwfs_parms['diam'] = 1.06 * wavelength['LGS'] * OAP_fl / (irisAO_radius*2)\n",
    "\n",
    "# Calculate the PSF tilt displacement\n",
    "lgs_psf_tilt = zwfs_parms['sep']/lgs.calcZernikeNormCoeff('tilt')\n",
    "\n",
    "# Assemble the ZWFS mask\n",
    "zwfs_ap = poppy.CircularAperture(radius=zwfs_parms['diam']/2,name=\"ZWFS aperture\", \n",
    "                                 pad_factor=zwfs_parms['pad_factor'])\n",
    "zwfs_ap.shift_y = lgs_psf_tilt.value\n",
    "zwfs_ap.shift_x = 0 # No shift along X, will change if using tip.\n",
    "zwfs_data = zwfs_ap.to_fits(npix=np.int_(samp/oversamp))[0].data\n",
    "zwfs_opd_surf_data = (wavelength['LGS'].value/(2*np.pi))*zwfs_data*(np.pi/2)\n",
    "# passing in meters? looks like it.\n",
    "zwfs_opd_filename = 'zwfs_opd1'\n",
    "mf.writeOPDfile(zwfs_opd_surf_data, zwfs_parms['pixscale'].value, 'data/' + zwfs_opd_filename + '.fits')"
   ]
  },
  {
   "cell_type": "code",
   "execution_count": null,
   "metadata": {},
   "outputs": [],
   "source": [
    "# incorporate ZWFS into the prescription data\n",
    "rx_LGS['surf_PSD_filename'][ZWFS_index] = zwfs_opd_filename\n",
    "\n",
    "# Rebuild to ZWFS pupil image with ZWFS mask inserted into system\n",
    "lgstb = lgs.csvFresnel(rx_csv=rx_LGS, samp=samp, oversamp=oversamp, axis='LGS', break_plane='imgZWFS', \n",
    "                       source_ZWFE_coeff=LGS_coeff_sequence, irisAOmap=hexdm, irisAOstatus=True)\n",
    "zwfs_psf, zwfs_wfs = lgstb.calc_psf(wavelength=wavelength['LGS'].value, \n",
    "                                        display_intermediates=True, \n",
    "                                        return_intermediates=True, save_intermediates=False)"
   ]
  },
  {
   "cell_type": "code",
   "execution_count": null,
   "metadata": {},
   "outputs": [],
   "source": []
  }
 ],
 "metadata": {
  "kernelspec": {
   "display_name": "Python [conda env:anaconda3]",
   "language": "python",
   "name": "conda-env-anaconda3-py"
  },
  "language_info": {
   "codemirror_mode": {
    "name": "ipython",
    "version": 3
   },
   "file_extension": ".py",
   "mimetype": "text/x-python",
   "name": "python",
   "nbconvert_exporter": "python",
   "pygments_lexer": "ipython3",
   "version": "3.5.6"
  }
 },
 "nbformat": 4,
 "nbformat_minor": 2
}
